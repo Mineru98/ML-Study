{
 "cells": [
  {
   "cell_type": "markdown",
   "metadata": {},
   "source": [
    "dsada"
   ]
  },
  {
   "cell_type": "code",
   "execution_count": 4,
   "metadata": {},
   "outputs": [
    {
     "name": "stdout",
     "output_type": "stream",
     "text": [
      "[[1 2]\n",
      " [3 4]]\n",
      "[[5 6]\n",
      " [7 8]]\n"
     ]
    }
   ],
   "source": [
    "## 0) 행렬 정의\n",
    "import numpy as np\n",
    "\n",
    "# 두개의 2차원 정방행렬을 정의 N x N처럼 생긴 행렬\n",
    "A = np.array([[1, 2], [3, 4]])\n",
    "B = np.array([[5, 6], [7, 8]])\n",
    "\n",
    "print(A)\n",
    "print(B)"
   ]
  },
  {
   "cell_type": "code",
   "execution_count": 11,
   "metadata": {},
   "outputs": [
    {
     "name": "stdout",
     "output_type": "stream",
     "text": [
      "[[ 6  8]\n",
      " [10 12]]\n",
      "[[ 5 12]\n",
      " [21 32]]\n",
      "[[19 22]\n",
      " [43 50]]\n",
      "[[0.2        0.33333333]\n",
      " [0.42857143 0.5       ]]\n",
      "[[ 1  4]\n",
      " [ 9 16]]\n",
      "[[-4.   3. ]\n",
      " [ 3.5 -2.5]]\n"
     ]
    }
   ],
   "source": [
    "## 1) 행렬의 깁노 연산\n",
    "# 행렬의 덧셈\n",
    "C = A + B\n",
    "print(C)\n",
    "\n",
    "# 행렬의 곱셈(Hadamard Product, 원소곱)\n",
    "D = A * B\n",
    "print(D)\n",
    "\n",
    "# 행렬의 곱셈(Matrix Product, 행렬곱)\n",
    "E = A @ B\n",
    "print(E)\n",
    "\n",
    "# 원소 나눗셈(Element Division)\n",
    "F = A / B\n",
    "print(F)\n",
    "\n",
    "# Matrix Square\n",
    "G = A ** 2 # G = A @ A\n",
    "print(G)\n",
    "\n",
    "# 역행렬    \n",
    "H = np.linalg.matrix_power(B, -1)\n",
    "print(H)"
   ]
  },
  {
   "cell_type": "code",
   "execution_count": null,
   "metadata": {},
   "outputs": [],
   "source": [
    "I = np.zeros((3, 3))\n",
    "J = np.ones((3, 3))\n",
    "K = np.empty((3, 3))\n",
    "print(I)\n",
    "print(J)\n",
    "print(K)\n",
    "\n",
    "# 단위행렬(정방행렬이 성립함) Identity Matrix\n",
    "L = np.eye(3)\n",
    "\n",
    "print(A @ H)"
   ]
  },
  {
   "cell_type": "code",
   "execution_count": 24,
   "metadata": {},
   "outputs": [
    {
     "name": "stdout",
     "output_type": "stream",
     "text": [
      "Integers: [6 3 7 4 6]\n",
      "Floats: [0.44583275 0.09997492 0.45924889 0.33370861 0.14286682]\n",
      "Binomial: [6 3 6 7 0]\n",
      "Normal: [ 0.02222183 -0.42779291 -0.53181741 -0.1174755   0.2220789 ]\n",
      "Exponential: [0.48201466 4.08821653 0.6287891  1.96568728 1.1403958 ]\n",
      "Poisson: [1 2 0 0 0]\n"
     ]
    }
   ],
   "source": [
    "import numpy as np\n",
    "\n",
    "np.random.seed(42)\n",
    "\n",
    "# Uniform\n",
    "random_integers = np.random.randint(low=0, high=10, size=5)\n",
    "print(\"Integers:\", random_integers)\n",
    "\n",
    "random_floats = np.random.uniform(low=0.0, high=1.0, size=5)\n",
    "print(\"Floats:\", random_floats)\n",
    "\n",
    "# Binomial\n",
    "random_binomial = np.random.binomial(n=10, p=0.5, size=5)\n",
    "print(\"Binomial:\", random_binomial)\n",
    "\n",
    "# Normal\n",
    "random_normal = np.random.normal(loc=0, scale=1.0, size=5)\n",
    "print(\"Normal:\", random_normal)\n",
    "\n",
    "# Exponential 지수 분포(Geometric)\n",
    "random_exponential = np.random.exponential(scale=1.0, size=5)\n",
    "print(\"Exponential:\", random_exponential)\n",
    "\n",
    "# Poisson\n",
    "random_poisson = np.random.poisson(lam=1.0, size=5)\n",
    "print(\"Poisson:\", random_poisson)"
   ]
  }
 ],
 "metadata": {
  "kernelspec": {
   "display_name": ".venv",
   "language": "python",
   "name": "python3"
  },
  "language_info": {
   "codemirror_mode": {
    "name": "ipython",
    "version": 3
   },
   "file_extension": ".py",
   "mimetype": "text/x-python",
   "name": "python",
   "nbconvert_exporter": "python",
   "pygments_lexer": "ipython3",
   "version": "3.11.6"
  }
 },
 "nbformat": 4,
 "nbformat_minor": 2
}
